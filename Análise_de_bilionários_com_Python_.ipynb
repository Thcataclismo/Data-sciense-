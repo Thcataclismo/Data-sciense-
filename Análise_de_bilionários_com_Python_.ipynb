{
  "nbformat": 4,
  "nbformat_minor": 0,
  "metadata": {
    "colab": {
      "provenance": [],
      "mount_file_id": "1IgfH6punm5LgZCUg6OMjdBs1vMXNs4cR",
      "authorship_tag": "ABX9TyO3WK1JRAp88v9vNKIbc6TR",
      "include_colab_link": true
    },
    "kernelspec": {
      "name": "python3",
      "display_name": "Python 3"
    },
    "language_info": {
      "name": "python"
    }
  },
  "cells": [
    {
      "cell_type": "markdown",
      "metadata": {
        "id": "view-in-github",
        "colab_type": "text"
      },
      "source": [
        "<a href=\"https://colab.research.google.com/github/Thcataclismo/Thcataclismo/blob/main/An%C3%A1lise_de_bilion%C3%A1rios_com_Python_.ipynb\" target=\"_parent\"><img src=\"https://colab.research.google.com/assets/colab-badge.svg\" alt=\"Open In Colab\"/></a>"
      ]
    },
    {
      "cell_type": "markdown",
      "source": [
        "**Análise de bilionários com Python**"
      ],
      "metadata": {
        "id": "3KVn-6iJV27P"
      }
    },
    {
      "cell_type": "markdown",
      "source": [
        "** importando as bibliotecas Python necessárias e o conjunto de dados:**"
      ],
      "metadata": {
        "id": "Qf0L_jKTWBEp"
      }
    },
    {
      "cell_type": "code",
      "execution_count": 3,
      "metadata": {
        "colab": {
          "base_uri": "https://localhost:8080/",
          "height": 206
        },
        "id": "Es_q7YEhRecz",
        "outputId": "2c530252-79ac-421b-e76d-6e772ea52527"
      },
      "outputs": [
        {
          "output_type": "execute_result",
          "data": {
            "text/plain": [
              "                       Name NetWorth        Country         Source  Rank  \\\n",
              "0                Jeff Bezos   $177 B  United States         Amazon     1   \n",
              "1                 Elon Musk   $151 B  United States  Tesla, SpaceX     2   \n",
              "2  Bernard Arnault & family   $150 B         France           LVMH     3   \n",
              "3                Bill Gates   $124 B  United States      Microsoft     4   \n",
              "4           Mark Zuckerberg    $97 B  United States       Facebook     5   \n",
              "\n",
              "    Age          Industry  \n",
              "0  57.0        Technology  \n",
              "1  49.0        Automotive  \n",
              "2  72.0  Fashion & Retail  \n",
              "3  65.0        Technology  \n",
              "4  36.0        Technology  "
            ],
            "text/html": [
              "\n",
              "  <div id=\"df-ae18cf70-bfdf-467f-ac76-02970ad24cc2\">\n",
              "    <div class=\"colab-df-container\">\n",
              "      <div>\n",
              "<style scoped>\n",
              "    .dataframe tbody tr th:only-of-type {\n",
              "        vertical-align: middle;\n",
              "    }\n",
              "\n",
              "    .dataframe tbody tr th {\n",
              "        vertical-align: top;\n",
              "    }\n",
              "\n",
              "    .dataframe thead th {\n",
              "        text-align: right;\n",
              "    }\n",
              "</style>\n",
              "<table border=\"1\" class=\"dataframe\">\n",
              "  <thead>\n",
              "    <tr style=\"text-align: right;\">\n",
              "      <th></th>\n",
              "      <th>Name</th>\n",
              "      <th>NetWorth</th>\n",
              "      <th>Country</th>\n",
              "      <th>Source</th>\n",
              "      <th>Rank</th>\n",
              "      <th>Age</th>\n",
              "      <th>Industry</th>\n",
              "    </tr>\n",
              "  </thead>\n",
              "  <tbody>\n",
              "    <tr>\n",
              "      <th>0</th>\n",
              "      <td>Jeff Bezos</td>\n",
              "      <td>$177 B</td>\n",
              "      <td>United States</td>\n",
              "      <td>Amazon</td>\n",
              "      <td>1</td>\n",
              "      <td>57.0</td>\n",
              "      <td>Technology</td>\n",
              "    </tr>\n",
              "    <tr>\n",
              "      <th>1</th>\n",
              "      <td>Elon Musk</td>\n",
              "      <td>$151 B</td>\n",
              "      <td>United States</td>\n",
              "      <td>Tesla, SpaceX</td>\n",
              "      <td>2</td>\n",
              "      <td>49.0</td>\n",
              "      <td>Automotive</td>\n",
              "    </tr>\n",
              "    <tr>\n",
              "      <th>2</th>\n",
              "      <td>Bernard Arnault &amp; family</td>\n",
              "      <td>$150 B</td>\n",
              "      <td>France</td>\n",
              "      <td>LVMH</td>\n",
              "      <td>3</td>\n",
              "      <td>72.0</td>\n",
              "      <td>Fashion &amp; Retail</td>\n",
              "    </tr>\n",
              "    <tr>\n",
              "      <th>3</th>\n",
              "      <td>Bill Gates</td>\n",
              "      <td>$124 B</td>\n",
              "      <td>United States</td>\n",
              "      <td>Microsoft</td>\n",
              "      <td>4</td>\n",
              "      <td>65.0</td>\n",
              "      <td>Technology</td>\n",
              "    </tr>\n",
              "    <tr>\n",
              "      <th>4</th>\n",
              "      <td>Mark Zuckerberg</td>\n",
              "      <td>$97 B</td>\n",
              "      <td>United States</td>\n",
              "      <td>Facebook</td>\n",
              "      <td>5</td>\n",
              "      <td>36.0</td>\n",
              "      <td>Technology</td>\n",
              "    </tr>\n",
              "  </tbody>\n",
              "</table>\n",
              "</div>\n",
              "      <button class=\"colab-df-convert\" onclick=\"convertToInteractive('df-ae18cf70-bfdf-467f-ac76-02970ad24cc2')\"\n",
              "              title=\"Convert this dataframe to an interactive table.\"\n",
              "              style=\"display:none;\">\n",
              "        \n",
              "  <svg xmlns=\"http://www.w3.org/2000/svg\" height=\"24px\"viewBox=\"0 0 24 24\"\n",
              "       width=\"24px\">\n",
              "    <path d=\"M0 0h24v24H0V0z\" fill=\"none\"/>\n",
              "    <path d=\"M18.56 5.44l.94 2.06.94-2.06 2.06-.94-2.06-.94-.94-2.06-.94 2.06-2.06.94zm-11 1L8.5 8.5l.94-2.06 2.06-.94-2.06-.94L8.5 2.5l-.94 2.06-2.06.94zm10 10l.94 2.06.94-2.06 2.06-.94-2.06-.94-.94-2.06-.94 2.06-2.06.94z\"/><path d=\"M17.41 7.96l-1.37-1.37c-.4-.4-.92-.59-1.43-.59-.52 0-1.04.2-1.43.59L10.3 9.45l-7.72 7.72c-.78.78-.78 2.05 0 2.83L4 21.41c.39.39.9.59 1.41.59.51 0 1.02-.2 1.41-.59l7.78-7.78 2.81-2.81c.8-.78.8-2.07 0-2.86zM5.41 20L4 18.59l7.72-7.72 1.47 1.35L5.41 20z\"/>\n",
              "  </svg>\n",
              "      </button>\n",
              "      \n",
              "  <style>\n",
              "    .colab-df-container {\n",
              "      display:flex;\n",
              "      flex-wrap:wrap;\n",
              "      gap: 12px;\n",
              "    }\n",
              "\n",
              "    .colab-df-convert {\n",
              "      background-color: #E8F0FE;\n",
              "      border: none;\n",
              "      border-radius: 50%;\n",
              "      cursor: pointer;\n",
              "      display: none;\n",
              "      fill: #1967D2;\n",
              "      height: 32px;\n",
              "      padding: 0 0 0 0;\n",
              "      width: 32px;\n",
              "    }\n",
              "\n",
              "    .colab-df-convert:hover {\n",
              "      background-color: #E2EBFA;\n",
              "      box-shadow: 0px 1px 2px rgba(60, 64, 67, 0.3), 0px 1px 3px 1px rgba(60, 64, 67, 0.15);\n",
              "      fill: #174EA6;\n",
              "    }\n",
              "\n",
              "    [theme=dark] .colab-df-convert {\n",
              "      background-color: #3B4455;\n",
              "      fill: #D2E3FC;\n",
              "    }\n",
              "\n",
              "    [theme=dark] .colab-df-convert:hover {\n",
              "      background-color: #434B5C;\n",
              "      box-shadow: 0px 1px 3px 1px rgba(0, 0, 0, 0.15);\n",
              "      filter: drop-shadow(0px 1px 2px rgba(0, 0, 0, 0.3));\n",
              "      fill: #FFFFFF;\n",
              "    }\n",
              "  </style>\n",
              "\n",
              "      <script>\n",
              "        const buttonEl =\n",
              "          document.querySelector('#df-ae18cf70-bfdf-467f-ac76-02970ad24cc2 button.colab-df-convert');\n",
              "        buttonEl.style.display =\n",
              "          google.colab.kernel.accessAllowed ? 'block' : 'none';\n",
              "\n",
              "        async function convertToInteractive(key) {\n",
              "          const element = document.querySelector('#df-ae18cf70-bfdf-467f-ac76-02970ad24cc2');\n",
              "          const dataTable =\n",
              "            await google.colab.kernel.invokeFunction('convertToInteractive',\n",
              "                                                     [key], {});\n",
              "          if (!dataTable) return;\n",
              "\n",
              "          const docLinkHtml = 'Like what you see? Visit the ' +\n",
              "            '<a target=\"_blank\" href=https://colab.research.google.com/notebooks/data_table.ipynb>data table notebook</a>'\n",
              "            + ' to learn more about interactive tables.';\n",
              "          element.innerHTML = '';\n",
              "          dataTable['output_type'] = 'display_data';\n",
              "          await google.colab.output.renderOutput(dataTable, element);\n",
              "          const docLink = document.createElement('div');\n",
              "          docLink.innerHTML = docLinkHtml;\n",
              "          element.appendChild(docLink);\n",
              "        }\n",
              "      </script>\n",
              "    </div>\n",
              "  </div>\n",
              "  "
            ]
          },
          "metadata": {},
          "execution_count": 3
        }
      ],
      "source": [
        "import pandas as pd\n",
        "import numpy as np \n",
        "import seaborn as sns\n",
        "import matplotlib.pyplot as plt\n",
        "\n",
        "dados = pd.read_csv('/content/drive/MyDrive/Billionaire.csv')\n",
        "dados.head()\n"
      ]
    },
    {
      "cell_type": "markdown",
      "source": [
        "**Analisando as estatisticas da tabela:**"
      ],
      "metadata": {
        "id": "d3MrLnLHXf4I"
      }
    },
    {
      "cell_type": "code",
      "source": [
        "dados.describe()"
      ],
      "metadata": {
        "colab": {
          "base_uri": "https://localhost:8080/",
          "height": 300
        },
        "id": "wEbGVF1LSFq1",
        "outputId": "ce42c4e0-960f-4d9e-e32c-5760079a723f"
      },
      "execution_count": 6,
      "outputs": [
        {
          "output_type": "execute_result",
          "data": {
            "text/plain": [
              "              Rank          Age\n",
              "count  2755.000000  2676.000000\n",
              "mean   1345.663521    63.113602\n",
              "std     772.669811    13.445153\n",
              "min       1.000000    18.000000\n",
              "25%     680.000000    54.000000\n",
              "50%    1362.000000    63.000000\n",
              "75%    2035.000000    73.000000\n",
              "max    2674.000000    99.000000"
            ],
            "text/html": [
              "\n",
              "  <div id=\"df-1409016d-4b32-44cb-a9ef-5b50bc9da01c\">\n",
              "    <div class=\"colab-df-container\">\n",
              "      <div>\n",
              "<style scoped>\n",
              "    .dataframe tbody tr th:only-of-type {\n",
              "        vertical-align: middle;\n",
              "    }\n",
              "\n",
              "    .dataframe tbody tr th {\n",
              "        vertical-align: top;\n",
              "    }\n",
              "\n",
              "    .dataframe thead th {\n",
              "        text-align: right;\n",
              "    }\n",
              "</style>\n",
              "<table border=\"1\" class=\"dataframe\">\n",
              "  <thead>\n",
              "    <tr style=\"text-align: right;\">\n",
              "      <th></th>\n",
              "      <th>Rank</th>\n",
              "      <th>Age</th>\n",
              "    </tr>\n",
              "  </thead>\n",
              "  <tbody>\n",
              "    <tr>\n",
              "      <th>count</th>\n",
              "      <td>2755.000000</td>\n",
              "      <td>2676.000000</td>\n",
              "    </tr>\n",
              "    <tr>\n",
              "      <th>mean</th>\n",
              "      <td>1345.663521</td>\n",
              "      <td>63.113602</td>\n",
              "    </tr>\n",
              "    <tr>\n",
              "      <th>std</th>\n",
              "      <td>772.669811</td>\n",
              "      <td>13.445153</td>\n",
              "    </tr>\n",
              "    <tr>\n",
              "      <th>min</th>\n",
              "      <td>1.000000</td>\n",
              "      <td>18.000000</td>\n",
              "    </tr>\n",
              "    <tr>\n",
              "      <th>25%</th>\n",
              "      <td>680.000000</td>\n",
              "      <td>54.000000</td>\n",
              "    </tr>\n",
              "    <tr>\n",
              "      <th>50%</th>\n",
              "      <td>1362.000000</td>\n",
              "      <td>63.000000</td>\n",
              "    </tr>\n",
              "    <tr>\n",
              "      <th>75%</th>\n",
              "      <td>2035.000000</td>\n",
              "      <td>73.000000</td>\n",
              "    </tr>\n",
              "    <tr>\n",
              "      <th>max</th>\n",
              "      <td>2674.000000</td>\n",
              "      <td>99.000000</td>\n",
              "    </tr>\n",
              "  </tbody>\n",
              "</table>\n",
              "</div>\n",
              "      <button class=\"colab-df-convert\" onclick=\"convertToInteractive('df-1409016d-4b32-44cb-a9ef-5b50bc9da01c')\"\n",
              "              title=\"Convert this dataframe to an interactive table.\"\n",
              "              style=\"display:none;\">\n",
              "        \n",
              "  <svg xmlns=\"http://www.w3.org/2000/svg\" height=\"24px\"viewBox=\"0 0 24 24\"\n",
              "       width=\"24px\">\n",
              "    <path d=\"M0 0h24v24H0V0z\" fill=\"none\"/>\n",
              "    <path d=\"M18.56 5.44l.94 2.06.94-2.06 2.06-.94-2.06-.94-.94-2.06-.94 2.06-2.06.94zm-11 1L8.5 8.5l.94-2.06 2.06-.94-2.06-.94L8.5 2.5l-.94 2.06-2.06.94zm10 10l.94 2.06.94-2.06 2.06-.94-2.06-.94-.94-2.06-.94 2.06-2.06.94z\"/><path d=\"M17.41 7.96l-1.37-1.37c-.4-.4-.92-.59-1.43-.59-.52 0-1.04.2-1.43.59L10.3 9.45l-7.72 7.72c-.78.78-.78 2.05 0 2.83L4 21.41c.39.39.9.59 1.41.59.51 0 1.02-.2 1.41-.59l7.78-7.78 2.81-2.81c.8-.78.8-2.07 0-2.86zM5.41 20L4 18.59l7.72-7.72 1.47 1.35L5.41 20z\"/>\n",
              "  </svg>\n",
              "      </button>\n",
              "      \n",
              "  <style>\n",
              "    .colab-df-container {\n",
              "      display:flex;\n",
              "      flex-wrap:wrap;\n",
              "      gap: 12px;\n",
              "    }\n",
              "\n",
              "    .colab-df-convert {\n",
              "      background-color: #E8F0FE;\n",
              "      border: none;\n",
              "      border-radius: 50%;\n",
              "      cursor: pointer;\n",
              "      display: none;\n",
              "      fill: #1967D2;\n",
              "      height: 32px;\n",
              "      padding: 0 0 0 0;\n",
              "      width: 32px;\n",
              "    }\n",
              "\n",
              "    .colab-df-convert:hover {\n",
              "      background-color: #E2EBFA;\n",
              "      box-shadow: 0px 1px 2px rgba(60, 64, 67, 0.3), 0px 1px 3px 1px rgba(60, 64, 67, 0.15);\n",
              "      fill: #174EA6;\n",
              "    }\n",
              "\n",
              "    [theme=dark] .colab-df-convert {\n",
              "      background-color: #3B4455;\n",
              "      fill: #D2E3FC;\n",
              "    }\n",
              "\n",
              "    [theme=dark] .colab-df-convert:hover {\n",
              "      background-color: #434B5C;\n",
              "      box-shadow: 0px 1px 3px 1px rgba(0, 0, 0, 0.15);\n",
              "      filter: drop-shadow(0px 1px 2px rgba(0, 0, 0, 0.3));\n",
              "      fill: #FFFFFF;\n",
              "    }\n",
              "  </style>\n",
              "\n",
              "      <script>\n",
              "        const buttonEl =\n",
              "          document.querySelector('#df-1409016d-4b32-44cb-a9ef-5b50bc9da01c button.colab-df-convert');\n",
              "        buttonEl.style.display =\n",
              "          google.colab.kernel.accessAllowed ? 'block' : 'none';\n",
              "\n",
              "        async function convertToInteractive(key) {\n",
              "          const element = document.querySelector('#df-1409016d-4b32-44cb-a9ef-5b50bc9da01c');\n",
              "          const dataTable =\n",
              "            await google.colab.kernel.invokeFunction('convertToInteractive',\n",
              "                                                     [key], {});\n",
              "          if (!dataTable) return;\n",
              "\n",
              "          const docLinkHtml = 'Like what you see? Visit the ' +\n",
              "            '<a target=\"_blank\" href=https://colab.research.google.com/notebooks/data_table.ipynb>data table notebook</a>'\n",
              "            + ' to learn more about interactive tables.';\n",
              "          element.innerHTML = '';\n",
              "          dataTable['output_type'] = 'display_data';\n",
              "          await google.colab.output.renderOutput(dataTable, element);\n",
              "          const docLink = document.createElement('div');\n",
              "          docLink.innerHTML = docLinkHtml;\n",
              "          element.appendChild(docLink);\n",
              "        }\n",
              "      </script>\n",
              "    </div>\n",
              "  </div>\n",
              "  "
            ]
          },
          "metadata": {},
          "execution_count": 6
        }
      ]
    },
    {
      "cell_type": "markdown",
      "source": [
        "**vamos ver se esse conjunto de dados contém ou não valores ausentes:**"
      ],
      "metadata": {
        "id": "EIyRrhuIXdj4"
      }
    },
    {
      "cell_type": "code",
      "source": [
        "dados.isnull().sum()"
      ],
      "metadata": {
        "colab": {
          "base_uri": "https://localhost:8080/"
        },
        "id": "T6AovpjaSLBw",
        "outputId": "2f967848-f489-4d45-949f-67add825a195"
      },
      "execution_count": 7,
      "outputs": [
        {
          "output_type": "execute_result",
          "data": {
            "text/plain": [
              "Name         0\n",
              "NetWorth     0\n",
              "Country      0\n",
              "Source       0\n",
              "Rank         0\n",
              "Age         79\n",
              "Industry     0\n",
              "dtype: int64"
            ]
          },
          "metadata": {},
          "execution_count": 7
        }
      ]
    },
    {
      "cell_type": "markdown",
      "source": [
        "**Removendo valores nulos:**"
      ],
      "metadata": {
        "id": "pJu2_1z8XqG8"
      }
    },
    {
      "cell_type": "code",
      "source": [
        "dados.dropna()"
      ],
      "metadata": {
        "colab": {
          "base_uri": "https://localhost:8080/",
          "height": 424
        },
        "id": "te-Fx_faSQha",
        "outputId": "74f706c7-21ba-403c-f4af-b3b806a4bb30"
      },
      "execution_count": 8,
      "outputs": [
        {
          "output_type": "execute_result",
          "data": {
            "text/plain": [
              "                          Name NetWorth        Country         Source  Rank  \\\n",
              "0                   Jeff Bezos   $177 B  United States         Amazon     1   \n",
              "1                    Elon Musk   $151 B  United States  Tesla, SpaceX     2   \n",
              "2     Bernard Arnault & family   $150 B         France           LVMH     3   \n",
              "3                   Bill Gates   $124 B  United States      Microsoft     4   \n",
              "4              Mark Zuckerberg    $97 B  United States       Facebook     5   \n",
              "...                        ...      ...            ...            ...   ...   \n",
              "2750         Daniel Yong Zhang     $1 B          China     e-commerce  2674   \n",
              "2751             Zhang Yuqiang     $1 B          China     Fiberglass  2674   \n",
              "2752             Zhao Meiguang     $1 B          China    gold mining  2674   \n",
              "2753            Zhong Naixiong     $1 B          China   conglomerate  2674   \n",
              "2754           Zhou Wei family     $1 B          China       Software  2674   \n",
              "\n",
              "       Age          Industry  \n",
              "0     57.0        Technology  \n",
              "1     49.0        Automotive  \n",
              "2     72.0  Fashion & Retail  \n",
              "3     65.0        Technology  \n",
              "4     36.0        Technology  \n",
              "...    ...               ...  \n",
              "2750  49.0        Technology  \n",
              "2751  65.0     Manufacturing  \n",
              "2752  58.0   Metals & Mining  \n",
              "2753  58.0       Diversified  \n",
              "2754  54.0        Technology  \n",
              "\n",
              "[2676 rows x 7 columns]"
            ],
            "text/html": [
              "\n",
              "  <div id=\"df-b72fb999-8396-4e43-a2aa-6e34e5b30e89\">\n",
              "    <div class=\"colab-df-container\">\n",
              "      <div>\n",
              "<style scoped>\n",
              "    .dataframe tbody tr th:only-of-type {\n",
              "        vertical-align: middle;\n",
              "    }\n",
              "\n",
              "    .dataframe tbody tr th {\n",
              "        vertical-align: top;\n",
              "    }\n",
              "\n",
              "    .dataframe thead th {\n",
              "        text-align: right;\n",
              "    }\n",
              "</style>\n",
              "<table border=\"1\" class=\"dataframe\">\n",
              "  <thead>\n",
              "    <tr style=\"text-align: right;\">\n",
              "      <th></th>\n",
              "      <th>Name</th>\n",
              "      <th>NetWorth</th>\n",
              "      <th>Country</th>\n",
              "      <th>Source</th>\n",
              "      <th>Rank</th>\n",
              "      <th>Age</th>\n",
              "      <th>Industry</th>\n",
              "    </tr>\n",
              "  </thead>\n",
              "  <tbody>\n",
              "    <tr>\n",
              "      <th>0</th>\n",
              "      <td>Jeff Bezos</td>\n",
              "      <td>$177 B</td>\n",
              "      <td>United States</td>\n",
              "      <td>Amazon</td>\n",
              "      <td>1</td>\n",
              "      <td>57.0</td>\n",
              "      <td>Technology</td>\n",
              "    </tr>\n",
              "    <tr>\n",
              "      <th>1</th>\n",
              "      <td>Elon Musk</td>\n",
              "      <td>$151 B</td>\n",
              "      <td>United States</td>\n",
              "      <td>Tesla, SpaceX</td>\n",
              "      <td>2</td>\n",
              "      <td>49.0</td>\n",
              "      <td>Automotive</td>\n",
              "    </tr>\n",
              "    <tr>\n",
              "      <th>2</th>\n",
              "      <td>Bernard Arnault &amp; family</td>\n",
              "      <td>$150 B</td>\n",
              "      <td>France</td>\n",
              "      <td>LVMH</td>\n",
              "      <td>3</td>\n",
              "      <td>72.0</td>\n",
              "      <td>Fashion &amp; Retail</td>\n",
              "    </tr>\n",
              "    <tr>\n",
              "      <th>3</th>\n",
              "      <td>Bill Gates</td>\n",
              "      <td>$124 B</td>\n",
              "      <td>United States</td>\n",
              "      <td>Microsoft</td>\n",
              "      <td>4</td>\n",
              "      <td>65.0</td>\n",
              "      <td>Technology</td>\n",
              "    </tr>\n",
              "    <tr>\n",
              "      <th>4</th>\n",
              "      <td>Mark Zuckerberg</td>\n",
              "      <td>$97 B</td>\n",
              "      <td>United States</td>\n",
              "      <td>Facebook</td>\n",
              "      <td>5</td>\n",
              "      <td>36.0</td>\n",
              "      <td>Technology</td>\n",
              "    </tr>\n",
              "    <tr>\n",
              "      <th>...</th>\n",
              "      <td>...</td>\n",
              "      <td>...</td>\n",
              "      <td>...</td>\n",
              "      <td>...</td>\n",
              "      <td>...</td>\n",
              "      <td>...</td>\n",
              "      <td>...</td>\n",
              "    </tr>\n",
              "    <tr>\n",
              "      <th>2750</th>\n",
              "      <td>Daniel Yong Zhang</td>\n",
              "      <td>$1 B</td>\n",
              "      <td>China</td>\n",
              "      <td>e-commerce</td>\n",
              "      <td>2674</td>\n",
              "      <td>49.0</td>\n",
              "      <td>Technology</td>\n",
              "    </tr>\n",
              "    <tr>\n",
              "      <th>2751</th>\n",
              "      <td>Zhang Yuqiang</td>\n",
              "      <td>$1 B</td>\n",
              "      <td>China</td>\n",
              "      <td>Fiberglass</td>\n",
              "      <td>2674</td>\n",
              "      <td>65.0</td>\n",
              "      <td>Manufacturing</td>\n",
              "    </tr>\n",
              "    <tr>\n",
              "      <th>2752</th>\n",
              "      <td>Zhao Meiguang</td>\n",
              "      <td>$1 B</td>\n",
              "      <td>China</td>\n",
              "      <td>gold mining</td>\n",
              "      <td>2674</td>\n",
              "      <td>58.0</td>\n",
              "      <td>Metals &amp; Mining</td>\n",
              "    </tr>\n",
              "    <tr>\n",
              "      <th>2753</th>\n",
              "      <td>Zhong Naixiong</td>\n",
              "      <td>$1 B</td>\n",
              "      <td>China</td>\n",
              "      <td>conglomerate</td>\n",
              "      <td>2674</td>\n",
              "      <td>58.0</td>\n",
              "      <td>Diversified</td>\n",
              "    </tr>\n",
              "    <tr>\n",
              "      <th>2754</th>\n",
              "      <td>Zhou Wei family</td>\n",
              "      <td>$1 B</td>\n",
              "      <td>China</td>\n",
              "      <td>Software</td>\n",
              "      <td>2674</td>\n",
              "      <td>54.0</td>\n",
              "      <td>Technology</td>\n",
              "    </tr>\n",
              "  </tbody>\n",
              "</table>\n",
              "<p>2676 rows × 7 columns</p>\n",
              "</div>\n",
              "      <button class=\"colab-df-convert\" onclick=\"convertToInteractive('df-b72fb999-8396-4e43-a2aa-6e34e5b30e89')\"\n",
              "              title=\"Convert this dataframe to an interactive table.\"\n",
              "              style=\"display:none;\">\n",
              "        \n",
              "  <svg xmlns=\"http://www.w3.org/2000/svg\" height=\"24px\"viewBox=\"0 0 24 24\"\n",
              "       width=\"24px\">\n",
              "    <path d=\"M0 0h24v24H0V0z\" fill=\"none\"/>\n",
              "    <path d=\"M18.56 5.44l.94 2.06.94-2.06 2.06-.94-2.06-.94-.94-2.06-.94 2.06-2.06.94zm-11 1L8.5 8.5l.94-2.06 2.06-.94-2.06-.94L8.5 2.5l-.94 2.06-2.06.94zm10 10l.94 2.06.94-2.06 2.06-.94-2.06-.94-.94-2.06-.94 2.06-2.06.94z\"/><path d=\"M17.41 7.96l-1.37-1.37c-.4-.4-.92-.59-1.43-.59-.52 0-1.04.2-1.43.59L10.3 9.45l-7.72 7.72c-.78.78-.78 2.05 0 2.83L4 21.41c.39.39.9.59 1.41.59.51 0 1.02-.2 1.41-.59l7.78-7.78 2.81-2.81c.8-.78.8-2.07 0-2.86zM5.41 20L4 18.59l7.72-7.72 1.47 1.35L5.41 20z\"/>\n",
              "  </svg>\n",
              "      </button>\n",
              "      \n",
              "  <style>\n",
              "    .colab-df-container {\n",
              "      display:flex;\n",
              "      flex-wrap:wrap;\n",
              "      gap: 12px;\n",
              "    }\n",
              "\n",
              "    .colab-df-convert {\n",
              "      background-color: #E8F0FE;\n",
              "      border: none;\n",
              "      border-radius: 50%;\n",
              "      cursor: pointer;\n",
              "      display: none;\n",
              "      fill: #1967D2;\n",
              "      height: 32px;\n",
              "      padding: 0 0 0 0;\n",
              "      width: 32px;\n",
              "    }\n",
              "\n",
              "    .colab-df-convert:hover {\n",
              "      background-color: #E2EBFA;\n",
              "      box-shadow: 0px 1px 2px rgba(60, 64, 67, 0.3), 0px 1px 3px 1px rgba(60, 64, 67, 0.15);\n",
              "      fill: #174EA6;\n",
              "    }\n",
              "\n",
              "    [theme=dark] .colab-df-convert {\n",
              "      background-color: #3B4455;\n",
              "      fill: #D2E3FC;\n",
              "    }\n",
              "\n",
              "    [theme=dark] .colab-df-convert:hover {\n",
              "      background-color: #434B5C;\n",
              "      box-shadow: 0px 1px 3px 1px rgba(0, 0, 0, 0.15);\n",
              "      filter: drop-shadow(0px 1px 2px rgba(0, 0, 0, 0.3));\n",
              "      fill: #FFFFFF;\n",
              "    }\n",
              "  </style>\n",
              "\n",
              "      <script>\n",
              "        const buttonEl =\n",
              "          document.querySelector('#df-b72fb999-8396-4e43-a2aa-6e34e5b30e89 button.colab-df-convert');\n",
              "        buttonEl.style.display =\n",
              "          google.colab.kernel.accessAllowed ? 'block' : 'none';\n",
              "\n",
              "        async function convertToInteractive(key) {\n",
              "          const element = document.querySelector('#df-b72fb999-8396-4e43-a2aa-6e34e5b30e89');\n",
              "          const dataTable =\n",
              "            await google.colab.kernel.invokeFunction('convertToInteractive',\n",
              "                                                     [key], {});\n",
              "          if (!dataTable) return;\n",
              "\n",
              "          const docLinkHtml = 'Like what you see? Visit the ' +\n",
              "            '<a target=\"_blank\" href=https://colab.research.google.com/notebooks/data_table.ipynb>data table notebook</a>'\n",
              "            + ' to learn more about interactive tables.';\n",
              "          element.innerHTML = '';\n",
              "          dataTable['output_type'] = 'display_data';\n",
              "          await google.colab.output.renderOutput(dataTable, element);\n",
              "          const docLink = document.createElement('div');\n",
              "          docLink.innerHTML = docLinkHtml;\n",
              "          element.appendChild(docLink);\n",
              "        }\n",
              "      </script>\n",
              "    </div>\n",
              "  </div>\n",
              "  "
            ]
          },
          "metadata": {},
          "execution_count": 8
        }
      ]
    },
    {
      "cell_type": "markdown",
      "source": [
        "**A coluna NetWorth neste conjunto de dados tem um sinal $ no início do patrimônio líquido dos bilionários e B no final. Portanto, precisamos remover esses sinais e converter a coluna NetWorth para float:**"
      ],
      "metadata": {
        "id": "RM-xrdUNYlBB"
      }
    },
    {
      "cell_type": "code",
      "source": [
        "\n",
        "dados[\"NetWorth\"] = dados[\"NetWorth\"].str.strip(\"$\")\n",
        "dados[\"NetWorth\"] = dados[\"NetWorth\"].str.strip(\"B\")\n",
        "dados[\"NetWorth\"] = dados[\"NetWorth\"].astype(float)"
      ],
      "metadata": {
        "id": "s_h7_14KYA7u"
      },
      "execution_count": 29,
      "outputs": []
    },
    {
      "cell_type": "markdown",
      "source": [
        "**10 maiores bilionários de acordo com sua NetWorth:**"
      ],
      "metadata": {
        "id": "1JEOLC80Ypla"
      }
    },
    {
      "cell_type": "code",
      "source": [
        "dados = dados.sort_values(by = ['NetWorth'], ascending=False).head(10)\n",
        "plt.figure(figsize=(20, 10))\n",
        "sns.histplot(x=\"Name\", hue=\"NetWorth\", data=dados)\n",
        "plt.show()"
      ],
      "metadata": {
        "colab": {
          "base_uri": "https://localhost:8080/",
          "height": 606
        },
        "id": "U6CWw9EgSzv7",
        "outputId": "2a554380-a0da-488e-9a9c-dcf211790241"
      },
      "execution_count": 20,
      "outputs": [
        {
          "output_type": "display_data",
          "data": {
            "text/plain": [
              "<Figure size 1440x720 with 1 Axes>"
            ],
            "image/png": "[encoded data removed]"
          },
          "metadata": {
            "needs_background": "light"
          }
        }
      ]
    },
    {
      "cell_type": "markdown",
      "source": [
        "**5 principais domínios com o maior número de bilionários:**"
      ],
      "metadata": {
        "id": "55uHhXD6Ys9T"
      }
    },
    {
      "cell_type": "code",
      "source": [
        "a = dados[\"Source\"].value_counts().head()\n",
        "index = a.index\n",
        "sources = a.values\n",
        "custom_colors = [\"skyblue\", \"yellowgreen\", 'tomato', \"blue\", \"red\"]\n",
        "plt.figure(figsize=(5, 5))\n",
        "plt.pie(sources, labels=index, colors=custom_colors)\n",
        "central_circle = plt.Circle((0, 0), 0.5, color='white')\n",
        "fig = plt.gcf()\n",
        "fig.gca().add_artist(central_circle)\n",
        "plt.rc('font', size=12)\n",
        "plt.title(\"Os 5 principais domínios para se tornar um bilionário\", fontsize=20)\n",
        "plt.show()"
      ],
      "metadata": {
        "colab": {
          "base_uri": "https://localhost:8080/",
          "height": 325
        },
        "id": "Bsfab1NmT8g0",
        "outputId": "78849ac8-0604-43ea-a814-f4d104ed7dd9"
      },
      "execution_count": 22,
      "outputs": [
        {
          "output_type": "display_data",
          "data": {
            "text/plain": [
              "<Figure size 360x360 with 1 Axes>"
            ],
            "image/png": "[encoded data removed]"
          },
          "metadata": {}
        }
      ]
    },
    {
      "cell_type": "markdown",
      "source": [
        "**5 principais indústrias com o maior número de bilionários:**"
      ],
      "metadata": {
        "id": "0WrBVuPSYxCj"
      }
    },
    {
      "cell_type": "code",
      "source": [
        "a = dados[\"Industry\"].value_counts().head()\n",
        "index = a.index\n",
        "industries = a.values\n",
        "custom_colors = [\"skyblue\", \"yellowgreen\", 'tomato', \"blue\", \"red\"]\n",
        "plt.figure(figsize=(5, 5))\n",
        "plt.pie(industries, labels=index, colors=custom_colors)\n",
        "central_circle = plt.Circle((0, 0), 0.5, color='white')\n",
        "fig = plt.gcf()\n",
        "fig.gca().add_artist(central_circle)\n",
        "plt.rc('font', size=12)\n",
        "plt.title(\"As 5 principais indústrias com maior número de bilionários\", fontsize=20)\n",
        "plt.show()"
      ],
      "metadata": {
        "colab": {
          "base_uri": "https://localhost:8080/",
          "height": 325
        },
        "id": "som7VTbwUUr-",
        "outputId": "3ec07230-c609-44a9-babf-dde5ea69ab0a"
      },
      "execution_count": 23,
      "outputs": [
        {
          "output_type": "display_data",
          "data": {
            "text/plain": [
              "<Figure size 360x360 with 1 Axes>"
            ],
            "image/png": "[encoded data removed]"
          },
          "metadata": {}
        }
      ]
    },
    {
      "cell_type": "markdown",
      "source": [
        "**5 principais países com o maior número de bilionários:**"
      ],
      "metadata": {
        "id": "BeWc5FSJY2uE"
      }
    },
    {
      "cell_type": "code",
      "source": [
        "a = dados['Country'].value_counts().head()\n",
        "index = a.index\n",
        "Country = a.values\n",
        "custom_colors = [\"skyblue\", \"yellowgreen\", 'tomato', \"blue\", \"red\"]\n",
        "plt.figure(figsize=(5, 5))\n",
        "plt.pie(Country, labels=index, colors=custom_colors)\n",
        "central_circle = plt.Circle((0, 0), 0.5, color='white')\n",
        "fig = plt.gcf()\n",
        "fig.gca().add_artist(central_circle)\n",
        "plt.rc('font', size=12)\n",
        "plt.title(\"Os 5 principais paises com maior número de bilionários\", fontsize=20)\n",
        "plt.show()"
      ],
      "metadata": {
        "colab": {
          "base_uri": "https://localhost:8080/",
          "height": 325
        },
        "id": "wEWEL6PcUfwD",
        "outputId": "eb425f67-5d1a-45d9-b166-6a5565eaff00"
      },
      "execution_count": 27,
      "outputs": [
        {
          "output_type": "display_data",
          "data": {
            "text/plain": [
              "<Figure size 360x360 with 1 Axes>"
            ],
            "image/png": "[encoded data removed]"
          },
          "metadata": {}
        }
      ]
    }
  ]
}