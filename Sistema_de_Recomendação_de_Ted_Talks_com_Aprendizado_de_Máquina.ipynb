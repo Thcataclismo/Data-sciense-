{
  "nbformat": 4,
  "nbformat_minor": 0,
  "metadata": {
    "colab": {
      "provenance": [],
      "mount_file_id": "13IewOOVD8z9QHfiCEH45lMvc3tdJmJgi",
      "authorship_tag": "ABX9TyNNYzEo1xDIKkZdlgLyotc9",
      "include_colab_link": true
    },
    "kernelspec": {
      "name": "python3",
      "display_name": "Python 3"
    },
    "language_info": {
      "name": "python"
    }
  },
  "cells": [
    {
      "cell_type": "markdown",
      "metadata": {
        "id": "view-in-github",
        "colab_type": "text"
      },
      "source": [
        "<a href=\"https://colab.research.google.com/github/Thcataclismo/Data-sciense-/blob/main/Sistema_de_Recomenda%C3%A7%C3%A3o_de_Ted_Talks_com_Aprendizado_de_M%C3%A1quina.ipynb\" target=\"_parent\"><img src=\"https://colab.research.google.com/assets/colab-badge.svg\" alt=\"Open In Colab\"/></a>"
      ]
    },
    {
      "cell_type": "markdown",
      "source": [
        "# Sistema de Recomendação de Ted Talks com Aprendizado de Máquina\n",
        "\n",
        "As palestras do Ted são uma boa fonte para aprender e se inspirar. Hoje em dia, toda plataforma possui um sistema de recomendação para fornecer uma melhor experiência ao usuário.\n",
        "\n",
        "Para recomendar Ted Talks a um usuário, precisamos criar um sistema de recomendação baseado em conteúdo, onde todas as palestras ted serão recomendadas com base no conteúdo do vídeo que o usuário assistiu anteriormente. Para criar tal sistema, podemos usar o conceito de similaridade de cosseno no aprendizado de máquina. Na seção abaixo, mostrarei como criar um sistema de recomendação do Ted Talks com aprendizado de máquina usando Python."
      ],
      "metadata": {
        "id": "0XbPGTm1AbZN"
      }
    },
    {
      "cell_type": "code",
      "execution_count": 1,
      "metadata": {
        "colab": {
          "base_uri": "https://localhost:8080/"
        },
        "id": "piRnvY3G_WWO",
        "outputId": "412a16f4-053f-458b-e31c-3ddf3266b1e2"
      },
      "outputs": [
        {
          "output_type": "stream",
          "name": "stdout",
          "text": [
            "                                          transcript  \\\n",
            "0  Good morning. How are you?(Laughter)It's been ...   \n",
            "1  Thank you so much, Chris. And it's truly a gre...   \n",
            "2  (Music: \"The Sound of Silence,\" Simon & Garfun...   \n",
            "3  If you're here today — and I'm very happy that...   \n",
            "4  About 10 years ago, I took on the task to teac...   \n",
            "\n",
            "                                                 url  \n",
            "0  https://www.ted.com/talks/ken_robinson_says_sc...  \n",
            "1  https://www.ted.com/talks/al_gore_on_averting_...  \n",
            "2  https://www.ted.com/talks/david_pogue_says_sim...  \n",
            "3  https://www.ted.com/talks/majora_carter_s_tale...  \n",
            "4  https://www.ted.com/talks/hans_rosling_shows_t...  \n"
          ]
        }
      ],
      "source": [
        "#Vamos começar a tarefa de criar este sistema de recomendação importando as bibliotecas Python necessárias e o conjunto de dados:\n",
        "\n",
        "import numpy as np\n",
        "import pandas as pd\n",
        "data = pd.read_csv(\"/content/drive/MyDrive/ted_talks.csv\")\n",
        "print(data.head())"
      ]
    },
    {
      "cell_type": "markdown",
      "source": [
        "O conjunto de dados contém a transcrição das palestras ted e a URL desse conteúdo. Portanto, para continuar com este conjunto de dados, criarei uma nova coluna como título, separando o título da URL:"
      ],
      "metadata": {
        "id": "vgo3mPMeAwu2"
      }
    },
    {
      "cell_type": "code",
      "source": [
        "data[\"title\"] = data[\"url\"].map(lambda x:x.split(\"/\")[-1])"
      ],
      "metadata": {
        "id": "IMqYqF18ALIl"
      },
      "execution_count": 6,
      "outputs": []
    },
    {
      "cell_type": "markdown",
      "source": [
        "Como afirmei no início, esse sistema de recomendação deve ser puramente baseado no conteúdo, e não nos dados do usuário, portanto, primeiro prepararei esse conjunto de dados e, em seguida, usaremos a similaridade de cosseno para medir as semelhanças entre as diferentes palestras do Ted :"
      ],
      "metadata": {
        "id": "Fk9CPZKZA3sG"
      }
    },
    {
      "cell_type": "code",
      "source": [
        "from sklearn.feature_extraction import text\n",
        "ted_talks = data[\"transcript\"].tolist()\n",
        "bi_tfidf = text.TfidfVectorizer(input=ted_talks, stop_words=\"english\", ngram_range=(1,2))\n",
        "bi_matrix = bi_tfidf.fit_transform(ted_talks)\n",
        "\n",
        "uni_tfidf = text.TfidfVectorizer(input=ted_talks, stop_words=\"english\")\n",
        "uni_matrix = uni_tfidf.fit_transform(ted_talks)\n",
        "\n",
        "from sklearn.metrics.pairwise import cosine_similarity\n",
        "bi_sim = cosine_similarity(bi_matrix)\n",
        "uni_sim = cosine_similarity(uni_matrix)"
      ],
      "metadata": {
        "id": "w1CJDgdf_t9k"
      },
      "execution_count": 3,
      "outputs": []
    },
    {
      "cell_type": "markdown",
      "source": [
        "Agora, a última etapa será criar uma função Python para recomendar palestras ted com base em seu conteúdo. "
      ],
      "metadata": {
        "id": "rVkGePapA9Ig"
      }
    },
    {
      "cell_type": "code",
      "source": [
        "def recommend_ted_talks(x):\n",
        "    return \".\".join(data[\"title\"].loc[x.argsort()[-5:-1]])\n",
        "    \n",
        "data[\"ted_talks_uni\"] = [recommend_ted_talks(x) for x in uni_sim]\n",
        "data[\"ted_talks_bi\"] = [recommend_ted_talks(x) for x in bi_sim]\n",
        "print(data['ted_talks_uni'].str.replace(\"_\", \" \").str.upper().str.strip().str.split(\"\\n\")[1])"
      ],
      "metadata": {
        "colab": {
          "base_uri": "https://localhost:8080/"
        },
        "id": "aey69rkf_wIC",
        "outputId": "28c9f7a0-8b64-458d-b475-bbcbb252f8d4"
      },
      "execution_count": 7,
      "outputs": [
        {
          "output_type": "stream",
          "name": "stdout",
          "text": [
            "['RORY BREMNER S ONE MAN WORLD SUMMIT', '.ALICE BOWS LARKIN WE RE TOO LATE TO PREVENT CLIMATE CHANGE HERE S HOW WE ADAPT', '.TED HALSTEAD A CLIMATE SOLUTION WHERE ALL SIDES CAN WIN', '.AL GORE S NEW THINKING ON THE CLIMATE CRISIS']\n"
          ]
        }
      ]
    },
    {
      "cell_type": "markdown",
      "source": [
        "Assim, podemos obter resultados semelhantes, o que significa que você pode seguir a mesma estratégia ao criar qualquer tipo de sistema de recomendação de conteúdo."
      ],
      "metadata": {
        "id": "crT3SfYhBDjT"
      }
    }
  ]
}