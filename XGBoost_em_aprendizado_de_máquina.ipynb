{
  "nbformat": 4,
  "nbformat_minor": 0,
  "metadata": {
    "colab": {
      "provenance": [],
      "mount_file_id": "1P1y39BnLhf1ggmRhwbenXkBkUToLzkyR",
      "authorship_tag": "ABX9TyMo9dzewv/Pk11TgV8o0sX8",
      "include_colab_link": true
    },
    "kernelspec": {
      "name": "python3",
      "display_name": "Python 3"
    },
    "language_info": {
      "name": "python"
    }
  },
  "cells": [
    {
      "cell_type": "markdown",
      "metadata": {
        "id": "view-in-github",
        "colab_type": "text"
      },
      "source": [
        "<a href=\"https://colab.research.google.com/github/Thcataclismo/Data-sciense-/blob/main/XGBoost_em_aprendizado_de_m%C3%A1quina.ipynb\" target=\"_parent\"><img src=\"https://colab.research.google.com/assets/colab-badge.svg\" alt=\"Open In Colab\"/></a>"
      ]
    },
    {
      "cell_type": "markdown",
      "source": [
        "# **XGBoost em aprendizado de máquina**"
      ],
      "metadata": {
        "id": "tIx_iiiQhrqg"
      }
    },
    {
      "cell_type": "markdown",
      "source": [
        "conjunto de dados : https://github.com/amankharwal/Website-data/blob/master/melb_data.csv"
      ],
      "metadata": {
        "id": "24obpbWFh097"
      }
    },
    {
      "cell_type": "markdown",
      "source": [],
      "metadata": {
        "id": "1TS5rfDSiBBf"
      }
    },
    {
      "cell_type": "code",
      "source": [
        "import pandas as pd\n",
        "from sklearn.model_selection import train_test_split\n",
        "\n",
        "# Lendo os dados\n",
        "data = pd.read_csv('/content/melb_data.csv')\n",
        "\n",
        "# Selecionar subconjunto de preditores\n",
        "cols_to_use = ['Rooms', 'Distance', 'Landsize', 'BuildingArea', 'YearBuilt']\n",
        "X = data[cols_to_use]\n",
        "\n",
        "# Selecione o alvo\n",
        "y = data.Price\n",
        "\n",
        "# Separe os dados em conjuntos de treinamento e validação\n",
        "X_train, X_valid, y_train, y_valid = train_test_split(X, y)"
      ],
      "metadata": {
        "id": "vAibVxqWgGeH"
      },
      "execution_count": 14,
      "outputs": []
    },
    {
      "cell_type": "markdown",
      "source": [
        "### Aqui precisamos importar a API scikit-learn para XGBoost\n",
        "\n",
        "### Isso nos permite criar e ajustar um modelo como faríamos no scikit-learn. \n",
        "\n"
      ],
      "metadata": {
        "id": "7p_VF3fSieqd"
      }
    },
    {
      "cell_type": "code",
      "source": [
        "from xgboost import XGBRegressor\n",
        "\n",
        "my_model = XGBRegressor()\n",
        "my_model.fit(X_train, y_train)"
      ],
      "metadata": {
        "colab": {
          "base_uri": "https://localhost:8080/"
        },
        "id": "oGe50NW7guCS",
        "outputId": "0fa96b43-d8eb-43a8-cb3f-c728cb093687"
      },
      "execution_count": 15,
      "outputs": [
        {
          "output_type": "stream",
          "name": "stdout",
          "text": [
            "[21:20:48] WARNING: /workspace/src/objective/regression_obj.cu:152: reg:linear is now deprecated in favor of reg:squarederror.\n"
          ]
        },
        {
          "output_type": "execute_result",
          "data": {
            "text/plain": [
              "XGBRegressor()"
            ]
          },
          "metadata": {},
          "execution_count": 15
        }
      ]
    },
    {
      "cell_type": "markdown",
      "source": [
        "### Agora, precisamos fazer previsões e avaliar nosso modelo:"
      ],
      "metadata": {
        "id": "J3OXiFYai1P8"
      }
    },
    {
      "cell_type": "code",
      "source": [
        "from sklearn.metrics import mean_absolute_error\n",
        "\n",
        "predictions = my_model.predict(X_valid)\n",
        "print(\"Mean Absolute Error: \" + str(mean_absolute_error(predictions, y_valid)))"
      ],
      "metadata": {
        "colab": {
          "base_uri": "https://localhost:8080/"
        },
        "id": "fIVwRXkwg0J8",
        "outputId": "473760b6-dbf6-48bb-f0e8-cc31d4ea7d31"
      },
      "execution_count": 16,
      "outputs": [
        {
          "output_type": "stream",
          "name": "stdout",
          "text": [
            "Mean Absolute Error: 283196.795808192\n"
          ]
        }
      ]
    },
    {
      "cell_type": "markdown",
      "source": [
        "# **Ajuste de Parâmetros**\n",
        "\n",
        "> O XGBoost possui alguns recursos que podem afetar drasticamente a precisão e a velocidade do treinamento.\n",
        "\n",
        "\n",
        "\n"
      ],
      "metadata": {
        "id": "Ua4Uv5RojA4F"
      }
    },
    {
      "cell_type": "markdown",
      "source": [
        "n_estimators especifica o número de vezes para ignorar o ciclo de modelagem descrito acima. É igual ao número de modelos que incluímos no conjunto.\n",
        "\n",
        "\n",
        "\n",
        "1.   Um valor muito baixo resulta em um underfitting, levando a previsões imprecisas nos dados de treinamento e nos dados de teste.\n",
        "2.   Um valor muito alto resulta em overfitting, resultando em previsões precisas nos dados de treinamento, mas previsões imprecisas nos dados de teste (o que é importante para nós).\n",
        "\n"
      ],
      "metadata": {
        "id": "iBsPPJkVjylI"
      }
    },
    {
      "cell_type": "code",
      "source": [
        "my_model = XGBRegressor(n_estimators=500)\n",
        "my_model.fit(X_train, y_train)"
      ],
      "metadata": {
        "colab": {
          "base_uri": "https://localhost:8080/"
        },
        "id": "Mup1ZPN6hBPG",
        "outputId": "c4237d1e-52ba-4f6a-8420-199130082237"
      },
      "execution_count": 17,
      "outputs": [
        {
          "output_type": "stream",
          "name": "stdout",
          "text": [
            "[21:22:06] WARNING: /workspace/src/objective/regression_obj.cu:152: reg:linear is now deprecated in favor of reg:squarederror.\n"
          ]
        },
        {
          "output_type": "execute_result",
          "data": {
            "text/plain": [
              "XGBRegressor(n_estimators=500)"
            ]
          },
          "metadata": {},
          "execution_count": 17
        }
      ]
    },
    {
      "cell_type": "markdown",
      "source": [
        "# **early_stopping_rounds**\n",
        "early_stopping_rounds fornece uma maneira de encontrar automaticamente o valor ideal para n_estimators.**\n",
        "\n",
        ">  Agora vamos ver como podemos usar early_stopping:\n",
        "\n",
        "\n"
      ],
      "metadata": {
        "id": "NhPl8vZVkdOD"
      }
    },
    {
      "cell_type": "code",
      "source": [
        "my_model = XGBRegressor(n_estimators=500)\n",
        "my_model.fit(X_train, y_train, \n",
        "             early_stopping_rounds=5, \n",
        "             eval_set=[(X_valid, y_valid)],\n",
        "             verbose=False)"
      ],
      "metadata": {
        "colab": {
          "base_uri": "https://localhost:8080/"
        },
        "id": "Fe5YTyechFFf",
        "outputId": "a1c9d24f-5dc8-43be-811b-1223e237503d"
      },
      "execution_count": 18,
      "outputs": [
        {
          "output_type": "stream",
          "name": "stdout",
          "text": [
            "[21:22:22] WARNING: /workspace/src/objective/regression_obj.cu:152: reg:linear is now deprecated in favor of reg:squarederror.\n"
          ]
        },
        {
          "output_type": "execute_result",
          "data": {
            "text/plain": [
              "XGBRegressor(n_estimators=500)"
            ]
          },
          "metadata": {},
          "execution_count": 18
        }
      ]
    },
    {
      "cell_type": "markdown",
      "source": [
        "# **taxa de Aprendizagem**\n",
        "\n",
        "Em vez de obter previsões simplesmente somando as previsões de cada modelo de componente, podemos multiplicar as previsões de cada modelo por um pequeno número antes de adicioná-los."
      ],
      "metadata": {
        "id": "mlBzS6S5kYpS"
      }
    },
    {
      "cell_type": "markdown",
      "source": [
        "Agora, vamos ver como podemos usar learning_rate no algoritmo XGBoost:"
      ],
      "metadata": {
        "id": "GjNZWEUKk6ii"
      }
    },
    {
      "cell_type": "code",
      "source": [
        "my_model = XGBRegressor(n_estimators=1000, learning_rate=0.05)\n",
        "my_model.fit(X_train, y_train, \n",
        "             early_stopping_rounds=5, \n",
        "             eval_set=[(X_valid, y_valid)], \n",
        "             verbose=False)"
      ],
      "metadata": {
        "colab": {
          "base_uri": "https://localhost:8080/"
        },
        "id": "7zDsM8yKhKkg",
        "outputId": "4dc2136b-64d4-4aa2-f1d7-c3156311ac61"
      },
      "execution_count": 19,
      "outputs": [
        {
          "output_type": "stream",
          "name": "stdout",
          "text": [
            "[21:22:44] WARNING: /workspace/src/objective/regression_obj.cu:152: reg:linear is now deprecated in favor of reg:squarederror.\n"
          ]
        },
        {
          "output_type": "execute_result",
          "data": {
            "text/plain": [
              "XGBRegressor(learning_rate=0.05, n_estimators=1000)"
            ]
          },
          "metadata": {},
          "execution_count": 19
        }
      ]
    },
    {
      "cell_type": "markdown",
      "source": [
        "# **n_empregos**\n",
        "\n",
        "Em conjuntos de dados maiores em que a execução é uma consideração, você pode usar o paralelismo para criar seus modelos mais rapidamente"
      ],
      "metadata": {
        "id": "-lnIax8uk90b"
      }
    },
    {
      "cell_type": "code",
      "source": [
        "my_model = XGBRegressor(n_estimators=1000, learning_rate=0.05, n_jobs=4)\n",
        "my_model.fit(X_train, y_train, \n",
        "             early_stopping_rounds=5, \n",
        "             eval_set=[(X_valid, y_valid)], \n",
        "             verbose=False)"
      ],
      "metadata": {
        "colab": {
          "base_uri": "https://localhost:8080/"
        },
        "id": "4WxJ9ADqhNbx",
        "outputId": "abb308d4-ee14-4e65-f868-fd5329909486"
      },
      "execution_count": 20,
      "outputs": [
        {
          "output_type": "stream",
          "name": "stdout",
          "text": [
            "[21:22:56] WARNING: /workspace/src/objective/regression_obj.cu:152: reg:linear is now deprecated in favor of reg:squarederror.\n"
          ]
        },
        {
          "output_type": "execute_result",
          "data": {
            "text/plain": [
              "XGBRegressor(learning_rate=0.05, n_estimators=1000, n_jobs=4)"
            ]
          },
          "metadata": {},
          "execution_count": 20
        }
      ]
    },
    {
      "cell_type": "markdown",
      "source": [
        "### XGBoost é uma biblioteca de software líder para trabalhar com dados tabulares padrão com ajuste fino de parâmetros, você pode treinar modelos muito precisos"
      ],
      "metadata": {
        "id": "LohNh_8AlIE9"
      }
    }
  ]
}